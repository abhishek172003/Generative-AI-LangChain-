{
  "cells": [
    {
      "cell_type": "code",
      "execution_count": null,
      "metadata": {
        "id": "WeWR1wl3dBay"
      },
      "outputs": [],
      "source": [
        "import os\n",
        "os.environ[\"GOOGLE_API_KEY\"] = \"\""
      ]
    },
    {
      "cell_type": "code",
      "execution_count": 2,
      "metadata": {
        "colab": {
          "base_uri": "https://localhost:8080/"
        },
        "id": "t_auBTtxdIqp",
        "outputId": "aa69771d-cc8e-4132-f690-abae9cfb7b0b"
      },
      "outputs": [
        {
          "name": "stdout",
          "output_type": "stream",
          "text": [
            "Note: you may need to restart the kernel to use updated packages.\n"
          ]
        }
      ],
      "source": [
        "%pip install -q langchain-google-genai langchain-community langchain-core requests duckduckgo-search"
      ]
    },
    {
      "cell_type": "code",
      "execution_count": 3,
      "metadata": {
        "id": "JRG8AtkSdLM3"
      },
      "outputs": [
        {
          "name": "stderr",
          "output_type": "stream",
          "text": [
            "c:\\Users\\Nikhil\\AppData\\Local\\Programs\\Python\\Python311\\Lib\\site-packages\\tqdm\\auto.py:21: TqdmWarning: IProgress not found. Please update jupyter and ipywidgets. See https://ipywidgets.readthedocs.io/en/stable/user_install.html\n",
            "  from .autonotebook import tqdm as notebook_tqdm\n"
          ]
        }
      ],
      "source": [
        "from langchain_google_genai import ChatGoogleGenerativeAI\n",
        "from langchain_core.tools import tool\n",
        "import requests"
      ]
    },
    {
      "cell_type": "code",
      "execution_count": 4,
      "metadata": {
        "id": "-F_IXJLikwHO"
      },
      "outputs": [],
      "source": [
        "from langchain_community.tools import DuckDuckGoSearchRun\n",
        "\n",
        "search_tool = DuckDuckGoSearchRun()"
      ]
    },
    {
      "cell_type": "code",
      "execution_count": 5,
      "metadata": {
        "id": "R2GZeN89ytgo"
      },
      "outputs": [],
      "source": [
        "@tool\n",
        "def get_weather_data(city: str) -> str:\n",
        "  \"\"\"\n",
        "  This function fetches the current weather data for a given city\n",
        "  \"\"\"\n",
        "  url = f'https://api.weatherstack.com/current?access_key=600f174a6daf6c80d4d61f936d5ff6e0&query={city}'\n",
        "\n",
        "  response = requests.get(url)\n",
        "\n",
        "  return response.json()"
      ]
    },
    {
      "cell_type": "code",
      "execution_count": 6,
      "metadata": {
        "id": "LSBEXlq3llWG"
      },
      "outputs": [],
      "source": [
        "llm = ChatGoogleGenerativeAI(model=\"gemini-2.5-flash\")"
      ]
    },
    {
      "cell_type": "code",
      "execution_count": 7,
      "metadata": {
        "id": "QpkrG8nAlysd"
      },
      "outputs": [],
      "source": [
        "from langchain.agents import create_react_agent, AgentExecutor\n",
        "from langchain import hub"
      ]
    },
    {
      "cell_type": "code",
      "execution_count": 8,
      "metadata": {
        "colab": {
          "base_uri": "https://localhost:8080/"
        },
        "id": "upsYmEP97Fk0",
        "outputId": "785e378e-b472-46e1-d8ee-7f971b6b3094"
      },
      "outputs": [
        {
          "name": "stderr",
          "output_type": "stream",
          "text": [
            "c:\\Users\\Nikhil\\AppData\\Local\\Programs\\Python\\Python311\\Lib\\site-packages\\langsmith\\client.py:272: LangSmithMissingAPIKeyWarning: API key must be provided when using hosted LangSmith API\n",
            "  warnings.warn(\n"
          ]
        }
      ],
      "source": [
        "# Step 2: Pull the ReAct prompt from LangChain Hub\n",
        "prompt = hub.pull(\"hwchase17/react\")  # pulls the standard ReAct agent prompt\n"
      ]
    },
    {
      "cell_type": "code",
      "execution_count": 9,
      "metadata": {
        "id": "46OsNvahYoXO"
      },
      "outputs": [],
      "source": [
        "# Step 3: Create the ReAct agent manually with the pulled prompt\n",
        "agent = create_react_agent(\n",
        "    llm=llm,\n",
        "    tools=[search_tool, get_weather_data],\n",
        "    prompt=prompt\n",
        ")"
      ]
    },
    {
      "cell_type": "code",
      "execution_count": 10,
      "metadata": {
        "id": "n_eQWa9qYqVN"
      },
      "outputs": [],
      "source": [
        "# Step 4: Wrap it with AgentExecutor\n",
        "agent_executor = AgentExecutor(\n",
        "    agent=agent,\n",
        "    tools=[search_tool, get_weather_data],\n",
        "    verbose=True\n",
        ")"
      ]
    },
    {
      "cell_type": "code",
      "execution_count": 11,
      "metadata": {
        "colab": {
          "base_uri": "https://localhost:8080/"
        },
        "id": "4731_FTsYsJT",
        "outputId": "e8ff82ef-4e44-4324-a379-b0e2ebb6ef88"
      },
      "outputs": [
        {
          "name": "stdout",
          "output_type": "stream",
          "text": [
            "\n",
            "\n",
            "\u001b[1m> Entering new AgentExecutor chain...\u001b[0m\n",
            "\u001b[32;1m\u001b[1;3mAction: duckduckgo_search\n",
            "Action Input: capital of Madhya Pradesh\u001b[0m"
          ]
        },
        {
          "name": "stderr",
          "output_type": "stream",
          "text": [
            "c:\\Users\\Nikhil\\AppData\\Local\\Programs\\Python\\Python311\\Lib\\site-packages\\langchain_community\\utilities\\duckduckgo_search.py:63: RuntimeWarning: This package (`duckduckgo_search`) has been renamed to `ddgs`! Use `pip install ddgs` instead.\n",
            "  with DDGS() as ddgs:\n"
          ]
        },
        {
          "name": "stdout",
          "output_type": "stream",
          "text": [
            "\u001b[36;1m\u001b[1;3mNo good DuckDuckGo Search Result was found\u001b[0m\u001b[32;1m\u001b[1;3mAction: duckduckgo_search\n",
            "Action Input: capital city of Madhya Pradesh\u001b[0m"
          ]
        },
        {
          "name": "stderr",
          "output_type": "stream",
          "text": [
            "c:\\Users\\Nikhil\\AppData\\Local\\Programs\\Python\\Python311\\Lib\\site-packages\\langchain_community\\utilities\\duckduckgo_search.py:63: RuntimeWarning: This package (`duckduckgo_search`) has been renamed to `ddgs`! Use `pip install ddgs` instead.\n",
            "  with DDGS() as ddgs:\n"
          ]
        },
        {
          "name": "stdout",
          "output_type": "stream",
          "text": [
            "\u001b[36;1m\u001b[1;3m如何评价天壹资本（Skycus Capital）？ 和高瓴，kkr等一线PE如何对比？ 和其他博裕，CPE，DCP等对比如何？ 补充说明一个个人认可的PE大致水平排名： 【超一线PE 黑石凯 … May 4, 2014 · 在会计的概念里Asset是指公司可以控制的所有资源，控制不代表拥有，所以Asset=Libility+Equity，不仅仅包括shareholders的投资，更包括公司的负债。 会计恒等式  … Jun 27, 2019 · Here's what is human capital. There's nothing more positive in economics than investing in people. But how do you measure its effectiveness? May 19, 2014 · Hi, What's the correct abbreviation for kilowatt? I have 18 KW in a text I'm proofreading. Is it A. 18 KW B. 18 kW C. 18 Kw I'm thinking it's Kg and Km, so it should be Kw, … 怎么理解净运营资金（net working capital）的计算公式？ 净运营资金（net working capital）的计算公式： 现金+存货+应收账款-应付账款 问题主要在于，为啥要减去应付账款？ 现实意义是 …\u001b[0m\u001b[32;1m\u001b[1;3mAction: duckduckgo_search\n",
            "Action Input: What is the capital of Madhya Pradesh?\u001b[0m"
          ]
        },
        {
          "name": "stderr",
          "output_type": "stream",
          "text": [
            "c:\\Users\\Nikhil\\AppData\\Local\\Programs\\Python\\Python311\\Lib\\site-packages\\langchain_community\\utilities\\duckduckgo_search.py:63: RuntimeWarning: This package (`duckduckgo_search`) has been renamed to `ddgs`! Use `pip install ddgs` instead.\n",
            "  with DDGS() as ddgs:\n"
          ]
        },
        {
          "name": "stdout",
          "output_type": "stream",
          "text": [
            "\u001b[36;1m\u001b[1;3m如何评价天壹资本（Skycus Capital）？ 和高瓴，kkr等一线PE如何对比？ 和其他博裕，CPE，DCP等对比如何？ 补充说明一个 … May 4, 2014 · 在会计的概念里Asset是指公司可以控制的所有资源，控制不代表拥有，所以Asset=Libility+Equity，不仅仅包 … Jun 27, 2019 · Here's what is human capital. There's nothing more positive in economics than investing in people. But how do you … May 19, 2014 · Hi, What's the correct abbreviation for kilowatt? I have 18 KW in a text I'm proofreading. Is it A. 18 KW B. 18 … 怎么理解净运营资金（net working capital）的计算公式？ 净运营资金（net working capital）的计算公式： 现金+存 …\u001b[0m\u001b[32;1m\u001b[1;3mAction: duckduckgo_search\n",
            "Action Input: Madhya Pradesh capital\u001b[0m"
          ]
        },
        {
          "name": "stderr",
          "output_type": "stream",
          "text": [
            "c:\\Users\\Nikhil\\AppData\\Local\\Programs\\Python\\Python311\\Lib\\site-packages\\langchain_community\\utilities\\duckduckgo_search.py:63: RuntimeWarning: This package (`duckduckgo_search`) has been renamed to `ddgs`! Use `pip install ddgs` instead.\n",
            "  with DDGS() as ddgs:\n"
          ]
        },
        {
          "name": "stdout",
          "output_type": "stream",
          "text": [
            "\u001b[36;1m\u001b[1;3mIts capital is Bhopal, and the largest city is Indore, with Gwalior, Jabalpur and Ujjain being the other major cities. Madhya Pradesh is the second largest Indian state by area and the fifth largest state … Click here👆to get an answer to your question ️ Madhya Pradesh's capital is Indore. Click here👆to get an answer to your question ️ What is the capital of Uttar Pradesh? Andhra Pradesh government approved Amaravathi as the name of the new capital city. The capital city is coming up between Vijayawada and Guntur cities. The place called Amaravathi in Andhra … Click here👆to get an answer to your question ️ The per capita education expenditure is lowest in state of India.\u001b[0m\u001b[32;1m\u001b[1;3mAction: get_weather_data\n",
            "Action Input: Bhopal\u001b[0m\u001b[33;1m\u001b[1;3m{'request': {'type': 'City', 'query': 'Bhopal, India', 'language': 'en', 'unit': 'm'}, 'location': {'name': 'Bhopal', 'country': 'India', 'region': 'Madhya Pradesh', 'lat': '23.267', 'lon': '77.400', 'timezone_id': 'Asia/Kolkata', 'localtime': '2025-08-14 19:58', 'localtime_epoch': 1755201480, 'utc_offset': '5.50'}, 'current': {'observation_time': '02:28 PM', 'temperature': 28, 'weather_code': 389, 'weather_icons': ['https://cdn.worldweatheronline.com/images/wsymbols01_png_64/wsymbol_0040_thunderstorms_night.png'], 'weather_descriptions': ['Thunderstorm, Rain With Thunderstorm'], 'astro': {'sunrise': '05:56 AM', 'sunset': '06:54 PM', 'moonrise': '10:14 PM', 'moonset': '10:39 AM', 'moon_phase': 'Waning Gibbous', 'moon_illumination': 75}, 'air_quality': {'co': '440.3', 'no2': '2.775', 'o3': '107', 'so2': '5.735', 'pm2_5': '24.975', 'pm10': '27.01', 'us-epa-index': '2', 'gb-defra-index': '2'}, 'wind_speed': 6, 'wind_degree': 57, 'wind_dir': 'ENE', 'pressure': 1004, 'precip': 0, 'humidity': 100, 'cloudcover': 50, 'feelslike': 33, 'uv_index': 0, 'visibility': 5, 'is_day': 'no'}}\u001b[0m\u001b[32;1m\u001b[1;3mI now know the final answer\n",
            "Final Answer: The capital of Madhya Pradesh is Bhopal. The current weather condition in Bhopal is Thunderstorm, Rain With Thunderstorm with a temperature of 28 degrees Celsius.\u001b[0m\n",
            "\n",
            "\u001b[1m> Finished chain.\u001b[0m\n",
            "{'input': \"Find the capital of Madhya Pradesh, then find it's current weather condition\", 'output': 'The capital of Madhya Pradesh is Bhopal. The current weather condition in Bhopal is Thunderstorm, Rain With Thunderstorm with a temperature of 28 degrees Celsius.'}\n"
          ]
        }
      ],
      "source": [
        "# Step 5: Invoke\n",
        "response = agent_executor.invoke({\"input\": \"Find the capital of Madhya Pradesh, then find it's current weather condition\"})\n",
        "print(response)"
      ]
    },
    {
      "cell_type": "code",
      "execution_count": 12,
      "metadata": {
        "colab": {
          "base_uri": "https://localhost:8080/",
          "height": 35
        },
        "id": "dISl6fzqZKfU",
        "outputId": "e2c9f778-4108-43cb-e393-3052b2347fef"
      },
      "outputs": [
        {
          "data": {
            "text/plain": [
              "'The capital of Madhya Pradesh is Bhopal. The current weather condition in Bhopal is Thunderstorm, Rain With Thunderstorm with a temperature of 28 degrees Celsius.'"
            ]
          },
          "execution_count": 12,
          "metadata": {},
          "output_type": "execute_result"
        }
      ],
      "source": [
        "response['output']"
      ]
    },
    {
      "cell_type": "code",
      "execution_count": null,
      "metadata": {
        "id": "QQcK6ADRB6AZ"
      },
      "outputs": [],
      "source": []
    }
  ],
  "metadata": {
    "colab": {
      "provenance": []
    },
    "kernelspec": {
      "display_name": "Python 3",
      "name": "python3"
    },
    "language_info": {
      "codemirror_mode": {
        "name": "ipython",
        "version": 3
      },
      "file_extension": ".py",
      "mimetype": "text/x-python",
      "name": "python",
      "nbconvert_exporter": "python",
      "pygments_lexer": "ipython3",
      "version": "3.11.0rc2"
    }
  },
  "nbformat": 4,
  "nbformat_minor": 0
}
