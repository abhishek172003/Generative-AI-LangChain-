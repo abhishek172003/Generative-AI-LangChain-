{
 "cells": [
  {
   "cell_type": "code",
   "execution_count": 1,
   "metadata": {
    "id": "X5k__vrf2uTL"
   },
   "outputs": [],
   "source": [
    "import os\n",
    "from dotenv import load_dotenv\n",
    "\n",
    "load_dotenv()  # loads GOOGLE_API_KEY from .env\n",
    "assert os.getenv(\"GOOGLE_API_KEY\"), \"Missing GOOGLE_API_KEY in .env\""
   ]
  },
  {
   "cell_type": "code",
   "execution_count": 3,
   "metadata": {
    "colab": {
     "base_uri": "https://localhost:8080/"
    },
    "id": "KFmB4r2CZmzI",
    "outputId": "76657856-bdc6-4152-b8d5-308be4d612dd"
   },
   "outputs": [
    {
     "name": "stdout",
     "output_type": "stream",
     "text": [
      "Note: you may need to restart the kernel to use updated packages.\n"
     ]
    }
   ],
   "source": [
    "%pip install -q -U langchain langchain-chroma langchain-google-genai google-generativeai python-dotenv pypdf"
   ]
  },
  {
   "cell_type": "code",
   "execution_count": 5,
   "metadata": {
    "id": "1YGuU6npaIFx"
   },
   "outputs": [],
   "source": [
    "from langchain_google_genai import GoogleGenerativeAIEmbeddings\n",
    "from langchain_chroma import Chroma"
   ]
  },
  {
   "cell_type": "code",
   "execution_count": 6,
   "metadata": {
    "id": "FpqDxoo-28TT"
   },
   "outputs": [],
   "source": [
    "from langchain.schema import Document\n",
    "\n",
    "# Create LangChain documents for IPL players\n",
    "\n",
    "doc1 = Document(\n",
    "        page_content=\"Virat Kohli is one of the most successful and consistent batsmen in IPL history. Known for his aggressive batting style and fitness, he has led the Royal Challengers Bangalore in multiple seasons.\",\n",
    "        metadata={\"team\": \"Royal Challengers Bangalore\"}\n",
    "    )\n",
    "doc2 = Document(\n",
    "        page_content=\"Rohit Sharma is the most successful captain in IPL history, leading Mumbai Indians to five titles. He's known for his calm demeanor and ability to play big innings under pressure.\",\n",
    "        metadata={\"team\": \"Mumbai Indians\"}\n",
    "    )\n",
    "doc3 = Document(\n",
    "        page_content=\"MS Dhoni, famously known as Captain Cool, has led Chennai Super Kings to multiple IPL titles. His finishing skills, wicketkeeping, and leadership are legendary.\",\n",
    "        metadata={\"team\": \"Chennai Super Kings\"}\n",
    "    )\n",
    "doc4 = Document(\n",
    "        page_content=\"Jasprit Bumrah is considered one of the best fast bowlers in T20 cricket. Playing for Mumbai Indians, he is known for his yorkers and death-over expertise.\",\n",
    "        metadata={\"team\": \"Mumbai Indians\"}\n",
    "    )\n",
    "doc5 = Document(\n",
    "        page_content=\"Ravindra Jadeja is a dynamic all-rounder who contributes with both bat and ball. Representing Chennai Super Kings, his quick fielding and match-winning performances make him a key player.\",\n",
    "        metadata={\"team\": \"Chennai Super Kings\"}\n",
    "    )\n"
   ]
  },
  {
   "cell_type": "code",
   "execution_count": 7,
   "metadata": {
    "id": "8gHb9o9Y3lfL"
   },
   "outputs": [],
   "source": [
    "docs = [doc1, doc2, doc3, doc4, doc5]"
   ]
  },
  {
   "cell_type": "code",
   "execution_count": 8,
   "metadata": {
    "id": "rIKW6J91c2Gw"
   },
   "outputs": [],
   "source": [
    "vector_store = Chroma(\n",
    "    embedding_function=GoogleGenerativeAIEmbeddings(model=\"models/embedding-001\"),\n",
    "    persist_directory='my_chroma_db_gemini',\n",
    "    collection_name='sample_gemini'\n",
    ")"
   ]
  },
  {
   "cell_type": "code",
   "execution_count": 9,
   "metadata": {
    "colab": {
     "base_uri": "https://localhost:8080/"
    },
    "id": "HY1WWRs3gLua",
    "outputId": "62b8a0fb-e673-4dc6-d24a-bc2748ac9c3d"
   },
   "outputs": [
    {
     "data": {
      "text/plain": [
       "['4dab50c6-585b-4ace-a184-5abc7b4dd4bf',\n",
       " '4853c269-fbef-4c89-a81f-7ab1c6be62dd',\n",
       " '8357cacd-ab70-4772-8663-21e6a894d341',\n",
       " 'b2da5271-3568-492e-bc4c-7784bd91fc55',\n",
       " '88059c3f-8d26-4a1e-8d2d-d32a89f0a2f1']"
      ]
     },
     "execution_count": 9,
     "metadata": {},
     "output_type": "execute_result"
    }
   ],
   "source": [
    "# add documents\n",
    "vector_store.add_documents(docs)"
   ]
  },
  {
   "cell_type": "code",
   "execution_count": 10,
   "metadata": {
    "colab": {
     "base_uri": "https://localhost:8080/"
    },
    "id": "nG7XjDXwg0JZ",
    "outputId": "630b5a14-f0f4-4914-98ab-1dd4851a392f"
   },
   "outputs": [
    {
     "data": {
      "text/plain": [
       "{'ids': ['4dab50c6-585b-4ace-a184-5abc7b4dd4bf',\n",
       "  '4853c269-fbef-4c89-a81f-7ab1c6be62dd',\n",
       "  '8357cacd-ab70-4772-8663-21e6a894d341',\n",
       "  'b2da5271-3568-492e-bc4c-7784bd91fc55',\n",
       "  '88059c3f-8d26-4a1e-8d2d-d32a89f0a2f1'],\n",
       " 'embeddings': array([[ 1.35614481e-02, -7.62679800e-03, -2.51727290e-02, ...,\n",
       "          1.35761239e-02,  3.51136659e-05, -7.35754846e-03],\n",
       "        [ 3.18830460e-02, -3.36795598e-02, -4.39120680e-02, ...,\n",
       "          1.08157219e-02, -1.05898809e-02, -1.52005616e-03],\n",
       "        [ 1.58164389e-02,  3.38992523e-03, -2.23509353e-02, ...,\n",
       "          1.95286470e-03, -7.18898326e-02, -8.88233818e-03],\n",
       "        [ 1.01624681e-02, -5.16264960e-02, -2.89599448e-02, ...,\n",
       "          3.29840817e-02, -2.09922232e-02,  1.78275332e-02],\n",
       "        [-8.94617348e-04,  1.97164640e-02, -9.64438636e-03, ...,\n",
       "          2.34126463e-03, -1.33365402e-02, -1.25717660e-02]]),\n",
       " 'documents': ['Virat Kohli is one of the most successful and consistent batsmen in IPL history. Known for his aggressive batting style and fitness, he has led the Royal Challengers Bangalore in multiple seasons.',\n",
       "  \"Rohit Sharma is the most successful captain in IPL history, leading Mumbai Indians to five titles. He's known for his calm demeanor and ability to play big innings under pressure.\",\n",
       "  'MS Dhoni, famously known as Captain Cool, has led Chennai Super Kings to multiple IPL titles. His finishing skills, wicketkeeping, and leadership are legendary.',\n",
       "  'Jasprit Bumrah is considered one of the best fast bowlers in T20 cricket. Playing for Mumbai Indians, he is known for his yorkers and death-over expertise.',\n",
       "  'Ravindra Jadeja is a dynamic all-rounder who contributes with both bat and ball. Representing Chennai Super Kings, his quick fielding and match-winning performances make him a key player.'],\n",
       " 'uris': None,\n",
       " 'included': ['embeddings', 'documents', 'metadatas'],\n",
       " 'data': None,\n",
       " 'metadatas': [{'team': 'Royal Challengers Bangalore'},\n",
       "  {'team': 'Mumbai Indians'},\n",
       "  {'team': 'Chennai Super Kings'},\n",
       "  {'team': 'Mumbai Indians'},\n",
       "  {'team': 'Chennai Super Kings'}]}"
      ]
     },
     "execution_count": 10,
     "metadata": {},
     "output_type": "execute_result"
    }
   ],
   "source": [
    "# view documents\n",
    "vector_store.get(include=['embeddings','documents', 'metadatas'])"
   ]
  },
  {
   "cell_type": "code",
   "execution_count": 11,
   "metadata": {
    "colab": {
     "base_uri": "https://localhost:8080/"
    },
    "id": "LU-W9_9Jg3l3",
    "outputId": "91c8d652-5fd4-4408-8a52-f4c7578b58c9"
   },
   "outputs": [
    {
     "data": {
      "text/plain": [
       "[Document(id='b2da5271-3568-492e-bc4c-7784bd91fc55', metadata={'team': 'Mumbai Indians'}, page_content='Jasprit Bumrah is considered one of the best fast bowlers in T20 cricket. Playing for Mumbai Indians, he is known for his yorkers and death-over expertise.'),\n",
       " Document(id='4dab50c6-585b-4ace-a184-5abc7b4dd4bf', metadata={'team': 'Royal Challengers Bangalore'}, page_content='Virat Kohli is one of the most successful and consistent batsmen in IPL history. Known for his aggressive batting style and fitness, he has led the Royal Challengers Bangalore in multiple seasons.')]"
      ]
     },
     "execution_count": 11,
     "metadata": {},
     "output_type": "execute_result"
    }
   ],
   "source": [
    "# search documents\n",
    "vector_store.similarity_search(\n",
    "    query='Who among these are a bowler?',\n",
    "    k=2\n",
    ")"
   ]
  },
  {
   "cell_type": "code",
   "execution_count": 12,
   "metadata": {
    "colab": {
     "base_uri": "https://localhost:8080/"
    },
    "id": "fRVVrXeag_MI",
    "outputId": "52907a05-008e-4b7b-ce63-a8dcd4a30b27"
   },
   "outputs": [
    {
     "data": {
      "text/plain": [
       "[(Document(id='b2da5271-3568-492e-bc4c-7784bd91fc55', metadata={'team': 'Mumbai Indians'}, page_content='Jasprit Bumrah is considered one of the best fast bowlers in T20 cricket. Playing for Mumbai Indians, he is known for his yorkers and death-over expertise.'),\n",
       "  0.770696222782135),\n",
       " (Document(id='4dab50c6-585b-4ace-a184-5abc7b4dd4bf', metadata={'team': 'Royal Challengers Bangalore'}, page_content='Virat Kohli is one of the most successful and consistent batsmen in IPL history. Known for his aggressive batting style and fitness, he has led the Royal Challengers Bangalore in multiple seasons.'),\n",
       "  0.8030722737312317)]"
      ]
     },
     "execution_count": 12,
     "metadata": {},
     "output_type": "execute_result"
    }
   ],
   "source": [
    "# search with similarity score\n",
    "vector_store.similarity_search_with_score(\n",
    "    query='Who among these are a bowler?',\n",
    "    k=2\n",
    ")"
   ]
  },
  {
   "cell_type": "code",
   "execution_count": 13,
   "metadata": {
    "colab": {
     "base_uri": "https://localhost:8080/"
    },
    "id": "NS6pINjhjldB",
    "outputId": "f1e3a58a-a1c8-4dd5-8340-2003d0a6fdbd"
   },
   "outputs": [
    {
     "data": {
      "text/plain": [
       "[(Document(id='88059c3f-8d26-4a1e-8d2d-d32a89f0a2f1', metadata={'team': 'Chennai Super Kings'}, page_content='Ravindra Jadeja is a dynamic all-rounder who contributes with both bat and ball. Representing Chennai Super Kings, his quick fielding and match-winning performances make him a key player.'),\n",
       "  0.871087908744812),\n",
       " (Document(id='8357cacd-ab70-4772-8663-21e6a894d341', metadata={'team': 'Chennai Super Kings'}, page_content='MS Dhoni, famously known as Captain Cool, has led Chennai Super Kings to multiple IPL titles. His finishing skills, wicketkeeping, and leadership are legendary.'),\n",
       "  0.8778100609779358)]"
      ]
     },
     "execution_count": 13,
     "metadata": {},
     "output_type": "execute_result"
    }
   ],
   "source": [
    "# meta-data filtering\n",
    "vector_store.similarity_search_with_score(\n",
    "    query=\"\",\n",
    "    filter={\"team\": \"Chennai Super Kings\"}\n",
    ")"
   ]
  },
  {
   "cell_type": "code",
   "execution_count": 14,
   "metadata": {
    "id": "5EXWk0T26qat"
   },
   "outputs": [],
   "source": [
    "# update documents\n",
    "updated_doc1 = Document(\n",
    "    page_content=\"Virat Kohli, the former captain of Royal Challengers Bangalore (RCB), is renowned for his aggressive leadership and consistent batting performances. He holds the record for the most runs in IPL history, including multiple centuries in a single season. Despite RCB not winning an IPL title under his captaincy, Kohli's passion and fitness set a benchmark for the league. His ability to chase targets and anchor innings has made him one of the most dependable players in T20 cricket.\",\n",
    "    metadata={\"team\": \"Royal Challengers Bangalore\"}\n",
    ")\n",
    "\n",
    "vector_store.update_document(document_id='09a39dc6-3ba6-4ea7-927e-fdda591da5e4', document=updated_doc1)\n"
   ]
  },
  {
   "cell_type": "code",
   "execution_count": 15,
   "metadata": {
    "colab": {
     "base_uri": "https://localhost:8080/"
    },
    "id": "vkB9Yd_O7oEl",
    "outputId": "99a61fb2-d5c3-4a62-bcd8-84e35a5fac97"
   },
   "outputs": [
    {
     "data": {
      "text/plain": [
       "{'ids': ['4dab50c6-585b-4ace-a184-5abc7b4dd4bf',\n",
       "  '4853c269-fbef-4c89-a81f-7ab1c6be62dd',\n",
       "  '8357cacd-ab70-4772-8663-21e6a894d341',\n",
       "  'b2da5271-3568-492e-bc4c-7784bd91fc55',\n",
       "  '88059c3f-8d26-4a1e-8d2d-d32a89f0a2f1'],\n",
       " 'embeddings': array([[ 1.35614481e-02, -7.62679800e-03, -2.51727290e-02, ...,\n",
       "          1.35761239e-02,  3.51136659e-05, -7.35754846e-03],\n",
       "        [ 3.18830460e-02, -3.36795598e-02, -4.39120680e-02, ...,\n",
       "          1.08157219e-02, -1.05898809e-02, -1.52005616e-03],\n",
       "        [ 1.58164389e-02,  3.38992523e-03, -2.23509353e-02, ...,\n",
       "          1.95286470e-03, -7.18898326e-02, -8.88233818e-03],\n",
       "        [ 1.01624681e-02, -5.16264960e-02, -2.89599448e-02, ...,\n",
       "          3.29840817e-02, -2.09922232e-02,  1.78275332e-02],\n",
       "        [-8.94617348e-04,  1.97164640e-02, -9.64438636e-03, ...,\n",
       "          2.34126463e-03, -1.33365402e-02, -1.25717660e-02]]),\n",
       " 'documents': ['Virat Kohli is one of the most successful and consistent batsmen in IPL history. Known for his aggressive batting style and fitness, he has led the Royal Challengers Bangalore in multiple seasons.',\n",
       "  \"Rohit Sharma is the most successful captain in IPL history, leading Mumbai Indians to five titles. He's known for his calm demeanor and ability to play big innings under pressure.\",\n",
       "  'MS Dhoni, famously known as Captain Cool, has led Chennai Super Kings to multiple IPL titles. His finishing skills, wicketkeeping, and leadership are legendary.',\n",
       "  'Jasprit Bumrah is considered one of the best fast bowlers in T20 cricket. Playing for Mumbai Indians, he is known for his yorkers and death-over expertise.',\n",
       "  'Ravindra Jadeja is a dynamic all-rounder who contributes with both bat and ball. Representing Chennai Super Kings, his quick fielding and match-winning performances make him a key player.'],\n",
       " 'uris': None,\n",
       " 'included': ['embeddings', 'documents', 'metadatas'],\n",
       " 'data': None,\n",
       " 'metadatas': [{'team': 'Royal Challengers Bangalore'},\n",
       "  {'team': 'Mumbai Indians'},\n",
       "  {'team': 'Chennai Super Kings'},\n",
       "  {'team': 'Mumbai Indians'},\n",
       "  {'team': 'Chennai Super Kings'}]}"
      ]
     },
     "execution_count": 15,
     "metadata": {},
     "output_type": "execute_result"
    }
   ],
   "source": [
    "# view documents\n",
    "vector_store.get(include=['embeddings','documents', 'metadatas'])"
   ]
  },
  {
   "cell_type": "code",
   "execution_count": 16,
   "metadata": {
    "id": "JfP7Gkgc7r4A"
   },
   "outputs": [],
   "source": [
    "# delete document\n",
    "vector_store.delete(ids=['09a39dc6-3ba6-4ea7-927e-fdda591da5e4'])"
   ]
  },
  {
   "cell_type": "code",
   "execution_count": 17,
   "metadata": {
    "colab": {
     "base_uri": "https://localhost:8080/"
    },
    "id": "Z8kVJ9UX76tG",
    "outputId": "a145b3bf-530b-403a-fc2c-d02e678ae8cc"
   },
   "outputs": [
    {
     "data": {
      "text/plain": [
       "{'ids': ['4dab50c6-585b-4ace-a184-5abc7b4dd4bf',\n",
       "  '4853c269-fbef-4c89-a81f-7ab1c6be62dd',\n",
       "  '8357cacd-ab70-4772-8663-21e6a894d341',\n",
       "  'b2da5271-3568-492e-bc4c-7784bd91fc55',\n",
       "  '88059c3f-8d26-4a1e-8d2d-d32a89f0a2f1'],\n",
       " 'embeddings': array([[ 1.35614481e-02, -7.62679800e-03, -2.51727290e-02, ...,\n",
       "          1.35761239e-02,  3.51136659e-05, -7.35754846e-03],\n",
       "        [ 3.18830460e-02, -3.36795598e-02, -4.39120680e-02, ...,\n",
       "          1.08157219e-02, -1.05898809e-02, -1.52005616e-03],\n",
       "        [ 1.58164389e-02,  3.38992523e-03, -2.23509353e-02, ...,\n",
       "          1.95286470e-03, -7.18898326e-02, -8.88233818e-03],\n",
       "        [ 1.01624681e-02, -5.16264960e-02, -2.89599448e-02, ...,\n",
       "          3.29840817e-02, -2.09922232e-02,  1.78275332e-02],\n",
       "        [-8.94617348e-04,  1.97164640e-02, -9.64438636e-03, ...,\n",
       "          2.34126463e-03, -1.33365402e-02, -1.25717660e-02]]),\n",
       " 'documents': ['Virat Kohli is one of the most successful and consistent batsmen in IPL history. Known for his aggressive batting style and fitness, he has led the Royal Challengers Bangalore in multiple seasons.',\n",
       "  \"Rohit Sharma is the most successful captain in IPL history, leading Mumbai Indians to five titles. He's known for his calm demeanor and ability to play big innings under pressure.\",\n",
       "  'MS Dhoni, famously known as Captain Cool, has led Chennai Super Kings to multiple IPL titles. His finishing skills, wicketkeeping, and leadership are legendary.',\n",
       "  'Jasprit Bumrah is considered one of the best fast bowlers in T20 cricket. Playing for Mumbai Indians, he is known for his yorkers and death-over expertise.',\n",
       "  'Ravindra Jadeja is a dynamic all-rounder who contributes with both bat and ball. Representing Chennai Super Kings, his quick fielding and match-winning performances make him a key player.'],\n",
       " 'uris': None,\n",
       " 'included': ['embeddings', 'documents', 'metadatas'],\n",
       " 'data': None,\n",
       " 'metadatas': [{'team': 'Royal Challengers Bangalore'},\n",
       "  {'team': 'Mumbai Indians'},\n",
       "  {'team': 'Chennai Super Kings'},\n",
       "  {'team': 'Mumbai Indians'},\n",
       "  {'team': 'Chennai Super Kings'}]}"
      ]
     },
     "execution_count": 17,
     "metadata": {},
     "output_type": "execute_result"
    }
   ],
   "source": [
    "# view documents\n",
    "vector_store.get(include=['embeddings','documents', 'metadatas'])"
   ]
  },
  {
   "cell_type": "code",
   "execution_count": null,
   "metadata": {
    "id": "Hg--cFdi79CV"
   },
   "outputs": [],
   "source": []
  }
 ],
 "metadata": {
  "colab": {
   "provenance": []
  },
  "kernelspec": {
   "display_name": "Python 3",
   "language": "python",
   "name": "python3"
  },
  "language_info": {
   "codemirror_mode": {
    "name": "ipython",
    "version": 3
   },
   "file_extension": ".py",
   "mimetype": "text/x-python",
   "name": "python",
   "nbconvert_exporter": "python",
   "pygments_lexer": "ipython3",
   "version": "3.11.0"
  }
 },
 "nbformat": 4,
 "nbformat_minor": 4
}
