{
  "cells": [
    {
      "cell_type": "code",
      "execution_count": 1,
      "metadata": {
        "colab": {
          "base_uri": "https://localhost:8080/"
        },
        "id": "rJdEXvveKlw_",
        "outputId": "7b515267-11f9-49cf-b5f7-5eab643f5cb8"
      },
      "outputs": [
        {
          "name": "stdout",
          "output_type": "stream",
          "text": [
            "Requirement already satisfied: langchain in c:\\users\\nikhil\\appdata\\local\\programs\\python\\python311\\lib\\site-packages (0.3.27)\n",
            "Requirement already satisfied: langchain-core in c:\\users\\nikhil\\appdata\\local\\programs\\python\\python311\\lib\\site-packages (0.3.72)\n",
            "Requirement already satisfied: langchain-community in c:\\users\\nikhil\\appdata\\local\\programs\\python\\python311\\lib\\site-packages (0.3.27)\n",
            "Requirement already satisfied: pydantic in c:\\users\\nikhil\\appdata\\local\\programs\\python\\python311\\lib\\site-packages (2.11.7)\n",
            "Requirement already satisfied: duckduckgo-search in c:\\users\\nikhil\\appdata\\local\\programs\\python\\python311\\lib\\site-packages (8.1.1)\n",
            "Requirement already satisfied: langchain_experimental in c:\\users\\nikhil\\appdata\\local\\programs\\python\\python311\\lib\\site-packages (0.3.4)\n",
            "Requirement already satisfied: langchain-text-splitters<1.0.0,>=0.3.9 in c:\\users\\nikhil\\appdata\\local\\programs\\python\\python311\\lib\\site-packages (from langchain) (0.3.9)\n",
            "Requirement already satisfied: langsmith>=0.1.17 in c:\\users\\nikhil\\appdata\\local\\programs\\python\\python311\\lib\\site-packages (from langchain) (0.4.9)\n",
            "Requirement already satisfied: SQLAlchemy<3,>=1.4 in c:\\users\\nikhil\\appdata\\local\\programs\\python\\python311\\lib\\site-packages (from langchain) (2.0.42)\n",
            "Requirement already satisfied: requests<3,>=2 in c:\\users\\nikhil\\appdata\\local\\programs\\python\\python311\\lib\\site-packages (from langchain) (2.32.4)\n",
            "Requirement already satisfied: PyYAML>=5.3 in c:\\users\\nikhil\\appdata\\local\\programs\\python\\python311\\lib\\site-packages (from langchain) (6.0.2)\n",
            "Requirement already satisfied: tenacity!=8.4.0,<10.0.0,>=8.1.0 in c:\\users\\nikhil\\appdata\\local\\programs\\python\\python311\\lib\\site-packages (from langchain-core) (9.1.2)\n",
            "Requirement already satisfied: jsonpatch<2.0,>=1.33 in c:\\users\\nikhil\\appdata\\local\\programs\\python\\python311\\lib\\site-packages (from langchain-core) (1.33)\n",
            "Requirement already satisfied: typing-extensions>=4.7 in c:\\users\\nikhil\\appdata\\local\\programs\\python\\python311\\lib\\site-packages (from langchain-core) (4.14.0)\n",
            "Requirement already satisfied: packaging>=23.2 in c:\\users\\nikhil\\appdata\\local\\programs\\python\\python311\\lib\\site-packages (from langchain-core) (25.0)\n",
            "Requirement already satisfied: annotated-types>=0.6.0 in c:\\users\\nikhil\\appdata\\local\\programs\\python\\python311\\lib\\site-packages (from pydantic) (0.7.0)\n",
            "Requirement already satisfied: pydantic-core==2.33.2 in c:\\users\\nikhil\\appdata\\local\\programs\\python\\python311\\lib\\site-packages (from pydantic) (2.33.2)\n",
            "Requirement already satisfied: typing-inspection>=0.4.0 in c:\\users\\nikhil\\appdata\\local\\programs\\python\\python311\\lib\\site-packages (from pydantic) (0.4.1)\n",
            "Requirement already satisfied: jsonpointer>=1.9 in c:\\users\\nikhil\\appdata\\local\\programs\\python\\python311\\lib\\site-packages (from jsonpatch<2.0,>=1.33->langchain-core) (3.0.0)\n",
            "Requirement already satisfied: charset_normalizer<4,>=2 in c:\\users\\nikhil\\appdata\\local\\programs\\python\\python311\\lib\\site-packages (from requests<3,>=2->langchain) (3.4.2)\n",
            "Requirement already satisfied: idna<4,>=2.5 in c:\\users\\nikhil\\appdata\\local\\programs\\python\\python311\\lib\\site-packages (from requests<3,>=2->langchain) (3.10)\n",
            "Requirement already satisfied: urllib3<3,>=1.21.1 in c:\\users\\nikhil\\appdata\\local\\programs\\python\\python311\\lib\\site-packages (from requests<3,>=2->langchain) (2.4.0)\n",
            "Requirement already satisfied: certifi>=2017.4.17 in c:\\users\\nikhil\\appdata\\local\\programs\\python\\python311\\lib\\site-packages (from requests<3,>=2->langchain) (2025.4.26)\n",
            "Requirement already satisfied: greenlet>=1 in c:\\users\\nikhil\\appdata\\local\\programs\\python\\python311\\lib\\site-packages (from SQLAlchemy<3,>=1.4->langchain) (3.2.3)\n",
            "Requirement already satisfied: aiohttp<4.0.0,>=3.8.3 in c:\\users\\nikhil\\appdata\\local\\programs\\python\\python311\\lib\\site-packages (from langchain-community) (3.12.15)\n",
            "Requirement already satisfied: dataclasses-json<0.7,>=0.5.7 in c:\\users\\nikhil\\appdata\\local\\programs\\python\\python311\\lib\\site-packages (from langchain-community) (0.6.7)\n",
            "Requirement already satisfied: pydantic-settings<3.0.0,>=2.4.0 in c:\\users\\nikhil\\appdata\\local\\programs\\python\\python311\\lib\\site-packages (from langchain-community) (2.10.1)\n",
            "Requirement already satisfied: httpx-sse<1.0.0,>=0.4.0 in c:\\users\\nikhil\\appdata\\local\\programs\\python\\python311\\lib\\site-packages (from langchain-community) (0.4.1)\n",
            "Requirement already satisfied: numpy>=1.26.2 in c:\\users\\nikhil\\appdata\\local\\programs\\python\\python311\\lib\\site-packages (from langchain-community) (2.1.3)\n",
            "Requirement already satisfied: aiohappyeyeballs>=2.5.0 in c:\\users\\nikhil\\appdata\\local\\programs\\python\\python311\\lib\\site-packages (from aiohttp<4.0.0,>=3.8.3->langchain-community) (2.6.1)\n",
            "Requirement already satisfied: aiosignal>=1.4.0 in c:\\users\\nikhil\\appdata\\local\\programs\\python\\python311\\lib\\site-packages (from aiohttp<4.0.0,>=3.8.3->langchain-community) (1.4.0)\n",
            "Requirement already satisfied: attrs>=17.3.0 in c:\\users\\nikhil\\appdata\\local\\programs\\python\\python311\\lib\\site-packages (from aiohttp<4.0.0,>=3.8.3->langchain-community) (25.3.0)\n",
            "Requirement already satisfied: frozenlist>=1.1.1 in c:\\users\\nikhil\\appdata\\local\\programs\\python\\python311\\lib\\site-packages (from aiohttp<4.0.0,>=3.8.3->langchain-community) (1.7.0)\n",
            "Requirement already satisfied: multidict<7.0,>=4.5 in c:\\users\\nikhil\\appdata\\local\\programs\\python\\python311\\lib\\site-packages (from aiohttp<4.0.0,>=3.8.3->langchain-community) (6.6.3)\n",
            "Requirement already satisfied: propcache>=0.2.0 in c:\\users\\nikhil\\appdata\\local\\programs\\python\\python311\\lib\\site-packages (from aiohttp<4.0.0,>=3.8.3->langchain-community) (0.3.2)\n",
            "Requirement already satisfied: yarl<2.0,>=1.17.0 in c:\\users\\nikhil\\appdata\\local\\programs\\python\\python311\\lib\\site-packages (from aiohttp<4.0.0,>=3.8.3->langchain-community) (1.20.1)\n",
            "Requirement already satisfied: marshmallow<4.0.0,>=3.18.0 in c:\\users\\nikhil\\appdata\\local\\programs\\python\\python311\\lib\\site-packages (from dataclasses-json<0.7,>=0.5.7->langchain-community) (3.26.1)\n",
            "Requirement already satisfied: typing-inspect<1,>=0.4.0 in c:\\users\\nikhil\\appdata\\local\\programs\\python\\python311\\lib\\site-packages (from dataclasses-json<0.7,>=0.5.7->langchain-community) (0.9.0)\n",
            "Requirement already satisfied: python-dotenv>=0.21.0 in c:\\users\\nikhil\\appdata\\local\\programs\\python\\python311\\lib\\site-packages (from pydantic-settings<3.0.0,>=2.4.0->langchain-community) (1.1.1)\n",
            "Requirement already satisfied: mypy-extensions>=0.3.0 in c:\\users\\nikhil\\appdata\\local\\programs\\python\\python311\\lib\\site-packages (from typing-inspect<1,>=0.4.0->dataclasses-json<0.7,>=0.5.7->langchain-community) (1.1.0)\n",
            "Requirement already satisfied: click>=8.1.8 in c:\\users\\nikhil\\appdata\\local\\programs\\python\\python311\\lib\\site-packages (from duckduckgo-search) (8.2.1)\n",
            "Requirement already satisfied: primp>=0.15.0 in c:\\users\\nikhil\\appdata\\local\\programs\\python\\python311\\lib\\site-packages (from duckduckgo-search) (0.15.0)\n",
            "Requirement already satisfied: lxml>=5.3.0 in c:\\users\\nikhil\\appdata\\local\\programs\\python\\python311\\lib\\site-packages (from duckduckgo-search) (6.0.0)\n",
            "Requirement already satisfied: colorama in c:\\users\\nikhil\\appdata\\local\\programs\\python\\python311\\lib\\site-packages (from click>=8.1.8->duckduckgo-search) (0.4.6)\n",
            "Requirement already satisfied: httpx<1,>=0.23.0 in c:\\users\\nikhil\\appdata\\local\\programs\\python\\python311\\lib\\site-packages (from langsmith>=0.1.17->langchain) (0.28.1)\n",
            "Requirement already satisfied: orjson<4.0.0,>=3.9.14 in c:\\users\\nikhil\\appdata\\local\\programs\\python\\python311\\lib\\site-packages (from langsmith>=0.1.17->langchain) (3.11.1)\n",
            "Requirement already satisfied: requests-toolbelt<2.0.0,>=1.0.0 in c:\\users\\nikhil\\appdata\\local\\programs\\python\\python311\\lib\\site-packages (from langsmith>=0.1.17->langchain) (1.0.0)\n",
            "Requirement already satisfied: zstandard<0.24.0,>=0.23.0 in c:\\users\\nikhil\\appdata\\local\\programs\\python\\python311\\lib\\site-packages (from langsmith>=0.1.17->langchain) (0.23.0)\n",
            "Requirement already satisfied: anyio in c:\\users\\nikhil\\appdata\\local\\programs\\python\\python311\\lib\\site-packages (from httpx<1,>=0.23.0->langsmith>=0.1.17->langchain) (4.9.0)\n",
            "Requirement already satisfied: httpcore==1.* in c:\\users\\nikhil\\appdata\\local\\programs\\python\\python311\\lib\\site-packages (from httpx<1,>=0.23.0->langsmith>=0.1.17->langchain) (1.0.9)\n",
            "Requirement already satisfied: h11>=0.16 in c:\\users\\nikhil\\appdata\\local\\programs\\python\\python311\\lib\\site-packages (from httpcore==1.*->httpx<1,>=0.23.0->langsmith>=0.1.17->langchain) (0.16.0)\n",
            "Requirement already satisfied: sniffio>=1.1 in c:\\users\\nikhil\\appdata\\local\\programs\\python\\python311\\lib\\site-packages (from anyio->httpx<1,>=0.23.0->langsmith>=0.1.17->langchain) (1.3.1)\n"
          ]
        }
      ],
      "source": [
        "!pip install langchain langchain-core langchain-community pydantic duckduckgo-search langchain_experimental"
      ]
    },
    {
      "cell_type": "markdown",
      "metadata": {
        "id": "RGVOzFTqLfOf"
      },
      "source": [
        "## Built-in Tool - DuckDuckGo Search"
      ]
    },
    {
      "cell_type": "code",
      "execution_count": 2,
      "metadata": {
        "colab": {
          "base_uri": "https://localhost:8080/"
        },
        "id": "4K8ez4gVLVua",
        "outputId": "4a367267-f791-49b5-bd7d-4e67b6f29337"
      },
      "outputs": [
        {
          "name": "stderr",
          "output_type": "stream",
          "text": [
            "c:\\Users\\Nikhil\\AppData\\Local\\Programs\\Python\\Python311\\Lib\\site-packages\\langchain_community\\utilities\\duckduckgo_search.py:63: RuntimeWarning: This package (`duckduckgo_search`) has been renamed to `ddgs`! Use `pip install ddgs` instead.\n",
            "  with DDGS() as ddgs:\n"
          ]
        },
        {
          "name": "stdout",
          "output_type": "stream",
          "text": [
            "Check today's top 10 news stories, headline news, breaking news, latest news, politics news, sports news, entertainment news and business news on Times of India 9 hours ago · News Live Daily Briefing: Tariffs, talks and tightropes Daily Briefing: Tariffs, talks and tightropes In today's edition: India engages Russia, China; a look at Trumponomics; the … Check out the latest news from India and around the world. Latest India news on Bollywood, Politics, Business, Cricket, Technology and Travel. 14 hours ago · Top News Stories of the day, Latest News Headlines, News Specials, Breaking News and Latest India News, World current affairs & Political News all around the clock at … 1 day ago · Read all India news and breaking news today from India on politics, business, entertainment, technology, sports, lifestyle and more at CNBC TV18.\n"
          ]
        }
      ],
      "source": [
        "from langchain_community.tools import DuckDuckGoSearchRun\n",
        "\n",
        "search_tool = DuckDuckGoSearchRun()\n",
        "\n",
        "results = search_tool.invoke('top news in india today')\n",
        "\n",
        "print(results)"
      ]
    },
    {
      "cell_type": "code",
      "execution_count": 3,
      "metadata": {
        "colab": {
          "base_uri": "https://localhost:8080/"
        },
        "id": "Bz5qSI-516qS",
        "outputId": "ba42efec-546a-4047-af88-fb15076f9e87"
      },
      "outputs": [
        {
          "name": "stdout",
          "output_type": "stream",
          "text": [
            "duckduckgo_search\n",
            "A wrapper around DuckDuckGo Search. Useful for when you need to answer questions about current events. Input should be a search query.\n",
            "{'query': {'description': 'search query to look up', 'title': 'Query', 'type': 'string'}}\n"
          ]
        }
      ],
      "source": [
        "print(search_tool.name)\n",
        "print(search_tool.description)\n",
        "print(search_tool.args)"
      ]
    },
    {
      "cell_type": "markdown",
      "metadata": {
        "id": "3Xnm2Mx1L9WQ"
      },
      "source": [
        "## Built-in Tool - Shell Tool"
      ]
    },
    {
      "cell_type": "code",
      "execution_count": 4,
      "metadata": {
        "colab": {
          "base_uri": "https://localhost:8080/"
        },
        "id": "PSKJlwU-Lt9W",
        "outputId": "9172ba8c-63c3-4296-b3e5-a37b1e810338"
      },
      "outputs": [
        {
          "name": "stdout",
          "output_type": "stream",
          "text": [
            "Executing command:\n",
            " ls\n",
            "'ls' is not recognized as an internal or external command,\n",
            "operable program or batch file.\n",
            "\n"
          ]
        },
        {
          "name": "stderr",
          "output_type": "stream",
          "text": [
            "c:\\Users\\Nikhil\\AppData\\Local\\Programs\\Python\\Python311\\Lib\\site-packages\\langchain_community\\tools\\shell\\tool.py:33: UserWarning: The shell tool has no safeguards by default. Use at your own risk.\n",
            "  warnings.warn(\n"
          ]
        }
      ],
      "source": [
        "from langchain_community.tools import ShellTool\n",
        "\n",
        "shell_tool = ShellTool()\n",
        "\n",
        "results = shell_tool.invoke('ls')\n",
        "\n",
        "print(results)"
      ]
    },
    {
      "cell_type": "markdown",
      "metadata": {
        "id": "HkGiksnFOJ3F"
      },
      "source": [
        "## Custom Tools"
      ]
    },
    {
      "cell_type": "code",
      "execution_count": 5,
      "metadata": {
        "id": "BZ1jNSsrMJZP"
      },
      "outputs": [],
      "source": [
        "from langchain_core.tools import tool"
      ]
    },
    {
      "cell_type": "code",
      "execution_count": 6,
      "metadata": {
        "id": "kqzQjm0inH1B"
      },
      "outputs": [],
      "source": [
        "# Step 1 - create a function\n",
        "\n",
        "def multiply(a, b):\n",
        "    \"\"\"Multiply two numbers\"\"\"\n",
        "    return a*b"
      ]
    },
    {
      "cell_type": "code",
      "execution_count": 7,
      "metadata": {
        "id": "cUNUMvyVnIXk"
      },
      "outputs": [],
      "source": [
        "# Step 2 - add type hints\n",
        "\n",
        "def multiply(a: int, b:int) -> int:\n",
        "    \"\"\"Multiply two numbers\"\"\"\n",
        "    return a*b"
      ]
    },
    {
      "cell_type": "code",
      "execution_count": 8,
      "metadata": {
        "id": "v_OQCXPDOOO5"
      },
      "outputs": [],
      "source": [
        "# Step 3 - add tool decorator\n",
        "\n",
        "@tool\n",
        "def multiply(a: int, b:int) -> int:\n",
        "    \"\"\"Multiply two numbers\"\"\"\n",
        "    return a*b"
      ]
    },
    {
      "cell_type": "code",
      "execution_count": 9,
      "metadata": {
        "id": "Hyl7U92mOP-4"
      },
      "outputs": [],
      "source": [
        "result = multiply.invoke({\"a\":3, \"b\":5})"
      ]
    },
    {
      "cell_type": "code",
      "execution_count": 11,
      "metadata": {
        "colab": {
          "base_uri": "https://localhost:8080/"
        },
        "id": "zgb9DJOrOSqG",
        "outputId": "48929af0-6f83-41f3-d107-c90b14af6166"
      },
      "outputs": [
        {
          "name": "stdout",
          "output_type": "stream",
          "text": [
            "15\n"
          ]
        }
      ],
      "source": [
        "print(result)"
      ]
    },
    {
      "cell_type": "code",
      "execution_count": 12,
      "metadata": {
        "colab": {
          "base_uri": "https://localhost:8080/"
        },
        "id": "fRSajRz6OUWe",
        "outputId": "accb9458-410b-4298-dc34-1c3ddf42aecb"
      },
      "outputs": [
        {
          "name": "stdout",
          "output_type": "stream",
          "text": [
            "multiply\n",
            "Multiply two numbers\n",
            "{'a': {'title': 'A', 'type': 'integer'}, 'b': {'title': 'B', 'type': 'integer'}}\n"
          ]
        }
      ],
      "source": [
        "print(multiply.name)\n",
        "print(multiply.description)\n",
        "print(multiply.args)"
      ]
    },
    {
      "cell_type": "code",
      "execution_count": 13,
      "metadata": {
        "colab": {
          "base_uri": "https://localhost:8080/"
        },
        "id": "JyFLVLVSOV4Z",
        "outputId": "21e9bf68-58d4-4891-cb04-75c7001f56e9"
      },
      "outputs": [
        {
          "name": "stdout",
          "output_type": "stream",
          "text": [
            "{'description': 'Multiply two numbers', 'properties': {'a': {'title': 'A', 'type': 'integer'}, 'b': {'title': 'B', 'type': 'integer'}}, 'required': ['a', 'b'], 'title': 'multiply', 'type': 'object'}\n"
          ]
        }
      ],
      "source": [
        "print(multiply.args_schema.model_json_schema())"
      ]
    },
    {
      "cell_type": "markdown",
      "metadata": {
        "id": "Hnkkf7XbOqGC"
      },
      "source": [
        "## Method 2 - Using StructuredTool"
      ]
    },
    {
      "cell_type": "code",
      "execution_count": 14,
      "metadata": {
        "id": "le0QcJHSOZtx"
      },
      "outputs": [],
      "source": [
        "from langchain.tools import StructuredTool\n",
        "from pydantic import BaseModel, Field"
      ]
    },
    {
      "cell_type": "code",
      "execution_count": 15,
      "metadata": {
        "id": "XhQhnCF9OuCx"
      },
      "outputs": [
        {
          "name": "stderr",
          "output_type": "stream",
          "text": [
            "c:\\Users\\Nikhil\\AppData\\Local\\Programs\\Python\\Python311\\Lib\\site-packages\\pydantic\\fields.py:1093: PydanticDeprecatedSince20: Using extra keyword arguments on `Field` is deprecated and will be removed. Use `json_schema_extra` instead. (Extra keys: 'required'). Deprecated in Pydantic V2.0 to be removed in V3.0. See Pydantic V2 Migration Guide at https://errors.pydantic.dev/2.11/migration/\n",
            "  warn(\n",
            "c:\\Users\\Nikhil\\AppData\\Local\\Programs\\Python\\Python311\\Lib\\site-packages\\pydantic\\fields.py:1093: PydanticDeprecatedSince20: Using extra keyword arguments on `Field` is deprecated and will be removed. Use `json_schema_extra` instead. (Extra keys: 'required'). Deprecated in Pydantic V2.0 to be removed in V3.0. See Pydantic V2 Migration Guide at https://errors.pydantic.dev/2.11/migration/\n",
            "  warn(\n"
          ]
        }
      ],
      "source": [
        "class MultiplyInput(BaseModel):\n",
        "    a: int = Field(required=True, description=\"The first number to add\")\n",
        "    b: int = Field(required=True, description=\"The second number to add\")"
      ]
    },
    {
      "cell_type": "code",
      "execution_count": 16,
      "metadata": {
        "id": "V0emRsp8Ovle"
      },
      "outputs": [],
      "source": [
        "def multiply_func(a: int, b: int) -> int:\n",
        "    return a * b"
      ]
    },
    {
      "cell_type": "code",
      "execution_count": 17,
      "metadata": {
        "id": "Ym5nmQuaOxJi"
      },
      "outputs": [],
      "source": [
        "multiply_tool = StructuredTool.from_function(\n",
        "    func=multiply_func,\n",
        "    name=\"multiply\",\n",
        "    description=\"Multiply two numbers\",\n",
        "    args_schema=MultiplyInput\n",
        ")"
      ]
    },
    {
      "cell_type": "code",
      "execution_count": 18,
      "metadata": {
        "colab": {
          "base_uri": "https://localhost:8080/"
        },
        "id": "EUWsRs6OOy7W",
        "outputId": "c41975ce-e0e4-49a5-f888-ddbb1958b2b7"
      },
      "outputs": [
        {
          "name": "stdout",
          "output_type": "stream",
          "text": [
            "9\n",
            "multiply\n",
            "Multiply two numbers\n",
            "{'a': {'description': 'The first number to add', 'required': True, 'title': 'A', 'type': 'integer'}, 'b': {'description': 'The second number to add', 'required': True, 'title': 'B', 'type': 'integer'}}\n"
          ]
        }
      ],
      "source": [
        "result = multiply_tool.invoke({'a':3, 'b':3})\n",
        "\n",
        "print(result)\n",
        "print(multiply_tool.name)\n",
        "print(multiply_tool.description)\n",
        "print(multiply_tool.args)"
      ]
    },
    {
      "cell_type": "markdown",
      "metadata": {
        "id": "4m1fr6RpO8vi"
      },
      "source": [
        "## Method 3 - Using BaseTool Class"
      ]
    },
    {
      "cell_type": "code",
      "execution_count": 19,
      "metadata": {
        "id": "GiXpMN0sOzsa"
      },
      "outputs": [],
      "source": [
        "from langchain.tools import BaseTool\n",
        "from typing import Type"
      ]
    },
    {
      "cell_type": "code",
      "execution_count": 20,
      "metadata": {
        "id": "yl0m79ys625L"
      },
      "outputs": [
        {
          "name": "stderr",
          "output_type": "stream",
          "text": [
            "c:\\Users\\Nikhil\\AppData\\Local\\Programs\\Python\\Python311\\Lib\\site-packages\\pydantic\\fields.py:1093: PydanticDeprecatedSince20: Using extra keyword arguments on `Field` is deprecated and will be removed. Use `json_schema_extra` instead. (Extra keys: 'required'). Deprecated in Pydantic V2.0 to be removed in V3.0. See Pydantic V2 Migration Guide at https://errors.pydantic.dev/2.11/migration/\n",
            "  warn(\n",
            "c:\\Users\\Nikhil\\AppData\\Local\\Programs\\Python\\Python311\\Lib\\site-packages\\pydantic\\fields.py:1093: PydanticDeprecatedSince20: Using extra keyword arguments on `Field` is deprecated and will be removed. Use `json_schema_extra` instead. (Extra keys: 'required'). Deprecated in Pydantic V2.0 to be removed in V3.0. See Pydantic V2 Migration Guide at https://errors.pydantic.dev/2.11/migration/\n",
            "  warn(\n"
          ]
        }
      ],
      "source": [
        "# arg schema using pydantic\n",
        "\n",
        "class MultiplyInput(BaseModel):\n",
        "    a: int = Field(required=True, description=\"The first number to add\")\n",
        "    b: int = Field(required=True, description=\"The second number to add\")"
      ]
    },
    {
      "cell_type": "code",
      "execution_count": 21,
      "metadata": {
        "id": "S5pvNLWZPEUd"
      },
      "outputs": [],
      "source": [
        "class MultiplyTool(BaseTool):\n",
        "    name: str = \"multiply\"\n",
        "    description: str = \"Multiply two numbers\"\n",
        "\n",
        "    args_schema: Type[BaseModel] = MultiplyInput\n",
        "\n",
        "    def _run(self, a: int, b: int) -> int:\n",
        "        return a * b"
      ]
    },
    {
      "cell_type": "code",
      "execution_count": 22,
      "metadata": {
        "id": "bznB88uQPF4n"
      },
      "outputs": [],
      "source": [
        "multiply_tool = MultiplyTool()"
      ]
    },
    {
      "cell_type": "code",
      "execution_count": 23,
      "metadata": {
        "colab": {
          "base_uri": "https://localhost:8080/"
        },
        "id": "4RzOFApnPb6K",
        "outputId": "0d4ca09a-4ba1-4210-8a27-0afd833b28c8"
      },
      "outputs": [
        {
          "name": "stdout",
          "output_type": "stream",
          "text": [
            "9\n",
            "multiply\n",
            "Multiply two numbers\n",
            "{'a': {'description': 'The first number to add', 'required': True, 'title': 'A', 'type': 'integer'}, 'b': {'description': 'The second number to add', 'required': True, 'title': 'B', 'type': 'integer'}}\n"
          ]
        }
      ],
      "source": [
        "result = multiply_tool.invoke({'a':3, 'b':3})\n",
        "\n",
        "print(result)\n",
        "print(multiply_tool.name)\n",
        "print(multiply_tool.description)\n",
        "\n",
        "print(multiply_tool.args)"
      ]
    },
    {
      "cell_type": "markdown",
      "metadata": {
        "id": "bNuB9bmZQolv"
      },
      "source": [
        "## Toolkit"
      ]
    },
    {
      "cell_type": "code",
      "execution_count": 24,
      "metadata": {
        "id": "fFbdDZBiQn9k"
      },
      "outputs": [],
      "source": [
        "from langchain_core.tools import tool\n",
        "\n",
        "# Custom tools\n",
        "@tool\n",
        "def add(a: int, b: int) -> int:\n",
        "    \"\"\"Add two numbers\"\"\"\n",
        "    return a + b\n",
        "\n",
        "@tool\n",
        "def multiply(a: int, b: int) -> int:\n",
        "    \"\"\"Multiply two numbers\"\"\"\n",
        "    return a * b\n"
      ]
    },
    {
      "cell_type": "code",
      "execution_count": 25,
      "metadata": {
        "id": "j6tT1z_APgJ1"
      },
      "outputs": [],
      "source": [
        "class MathToolkit:\n",
        "    def get_tools(self):\n",
        "        return [add, multiply]\n"
      ]
    },
    {
      "cell_type": "code",
      "execution_count": 26,
      "metadata": {
        "colab": {
          "base_uri": "https://localhost:8080/"
        },
        "id": "fH6n1A0FRcMc",
        "outputId": "088a8605-3577-4ab6-8604-8ac7a70b16d1"
      },
      "outputs": [
        {
          "name": "stdout",
          "output_type": "stream",
          "text": [
            "add => Add two numbers\n",
            "multiply => Multiply two numbers\n"
          ]
        }
      ],
      "source": [
        "toolkit = MathToolkit()\n",
        "tools = toolkit.get_tools()\n",
        "\n",
        "for tool in tools:\n",
        "    print(tool.name, \"=>\", tool.description)\n"
      ]
    },
    {
      "cell_type": "code",
      "execution_count": null,
      "metadata": {
        "id": "SkfYSzVeReij"
      },
      "outputs": [],
      "source": []
    }
  ],
  "metadata": {
    "colab": {
      "provenance": []
    },
    "kernelspec": {
      "display_name": "Python 3",
      "name": "python3"
    },
    "language_info": {
      "codemirror_mode": {
        "name": "ipython",
        "version": 3
      },
      "file_extension": ".py",
      "mimetype": "text/x-python",
      "name": "python",
      "nbconvert_exporter": "python",
      "pygments_lexer": "ipython3",
      "version": "3.11.0rc2"
    }
  },
  "nbformat": 4,
  "nbformat_minor": 0
}
